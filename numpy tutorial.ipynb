{
 "cells": [
  {
   "cell_type": "markdown",
   "metadata": {},
   "source": [
    "# Basics"
   ]
  },
  {
   "cell_type": "markdown",
   "metadata": {},
   "source": [
    "# numpy ref https://numpy.org/doc/stable/reference/index.html"
   ]
  },
  {
   "cell_type": "code",
   "execution_count": 1,
   "metadata": {},
   "outputs": [
    {
     "name": "stdout",
     "output_type": "stream",
     "text": [
      "[1 2 3]\n",
      "[[1 2 3]\n",
      " [4 5 6]]\n",
      "1\n",
      "2\n",
      "3\n",
      "4\n",
      "5\n",
      "6\n"
     ]
    },
    {
     "data": {
      "text/plain": [
       "(2, 3)"
      ]
     },
     "execution_count": 1,
     "metadata": {},
     "output_type": "execute_result"
    }
   ],
   "source": [
    "import numpy as np\n",
    "\n",
    "# creat array and all uses of numpy through call of np.\n",
    "first_array = np.array([1, 2, 3])\n",
    "print(first_array)\n",
    "\n",
    "# Remember 2d structure is a concept, first row is 0, but first value is also 0, as a col is just an element in a row. Each index of a row makes a conceptual col.\n",
    "two_d_array = np.array([[1, 2, 3],\n",
    "                        [4, 5, 6]])\n",
    "\n",
    "print(two_d_array)\n",
    "for i in range(len(two_d_array)):\n",
    "    for j in range(3):\n",
    "        print(two_d_array[i][j])\n",
    "\n",
    "# get dimension of or shape(vector) of array\n",
    "two_d_array.ndim\n",
    "two_d_array.shape\n"
   ]
  },
  {
   "cell_type": "markdown",
   "metadata": {},
   "source": [
    "# Accessesing and changing elements, row, cols etc."
   ]
  },
  {
   "cell_type": "code",
   "execution_count": 49,
   "metadata": {},
   "outputs": [
    {
     "name": "stdout",
     "output_type": "stream",
     "text": [
      "[[ 6  7  8  9 10]]\n",
      "[2 3 4]\n",
      "[2 7]\n",
      "[2 4]\n",
      "[12  2  3  4  5]\n",
      "[[0.2402654  0.4565271  0.86081201]\n",
      " [0.2381365  0.01798055 0.18432569]\n",
      " [0.63212667 0.51129787 0.19137409]]\n"
     ]
    }
   ],
   "source": [
    "two_d_array = np.array([[1, 2, 3, 4, 5,], [6, 7, 8, 9, 10,]])\n",
    "# access specific element i.e 5\n",
    "ele =two_d_array[1,1]\n",
    " # get specific row i, second row. use list slice syntax :\n",
    "row = two_d_array[1:]\n",
    "print(row)\n",
    "# for section of a row, ie row from second element to fourth element, remember will extracat from first arg, but one before last arg.\n",
    "row_two = two_d_array[0, 1:4]\n",
    "print(row_two)\n",
    "\n",
    "# get spec col i.e second col\n",
    "col = two_d_array[:, 1]\n",
    "print(col)\n",
    "\n",
    "#  stepsze extraction, every other one except\n",
    "\n",
    "step_row = two_d_array[0, 1:6:2]\n",
    "print(step_row)\n",
    "\n",
    "# change element change using index arguments. i.e change first element to 20\n",
    "\n",
    "two_d_array[0, 0] = 12\n",
    "print(two_d_array[0, :])\n",
    "\n",
    "# initialise with random numbers\n",
    "\n",
    "rando = np.random.rand(3,3)\n",
    "print(rando)\n"
   ]
  },
  {
   "cell_type": "markdown",
   "metadata": {},
   "source": [
    "# Initialize arrays"
   ]
  },
  {
   "cell_type": "code",
   "execution_count": 47,
   "metadata": {},
   "outputs": [
    {
     "name": "stdout",
     "output_type": "stream",
     "text": [
      "[[0. 0.]\n",
      " [0. 0.]]\n",
      "[[[1. 1. 1.]\n",
      "  [1. 1. 1.]\n",
      "  [1. 1. 1.]]\n",
      "\n",
      " [[1. 1. 1.]\n",
      "  [1. 1. 1.]\n",
      "  [1. 1. 1.]]\n",
      "\n",
      " [[1. 1. 1.]\n",
      "  [1. 1. 1.]\n",
      "  [1. 1. 1.]]]\n"
     ]
    }
   ],
   "source": [
    "zero_two_d =np.zeros((2, 2))\n",
    "\n",
    "one_three_d = np.ones((3, 3, 3))\n",
    "\n",
    "print(zero_two_d)\n",
    "print(one_three_d)\n",
    "\n",
    "\n",
    "\n"
   ]
  },
  {
   "cell_type": "markdown",
   "metadata": {},
   "source": [
    "# mathematics\n"
   ]
  },
  {
   "cell_type": "code",
   "execution_count": 51,
   "metadata": {},
   "outputs": [
    {
     "data": {
      "text/plain": [
       "array([3, 4, 5, 6])"
      ]
     },
     "execution_count": 51,
     "metadata": {},
     "output_type": "execute_result"
    }
   ],
   "source": [
    "# additon to elements\n",
    "a = np.array([1, 2, 3, 4])\n",
    "\n",
    "a + 2"
   ]
  },
  {
   "cell_type": "code",
   "execution_count": null,
   "metadata": {},
   "outputs": [],
   "source": [
    "# multiplication to elements\n",
    "a = np.array([1, 2, 3, 4])\n",
    "\n",
    "a * 2"
   ]
  },
  {
   "cell_type": "code",
   "execution_count": 52,
   "metadata": {},
   "outputs": [
    {
     "data": {
      "text/plain": [
       "array([0.5, 1. , 1.5, 2. ])"
      ]
     },
     "execution_count": 52,
     "metadata": {},
     "output_type": "execute_result"
    }
   ],
   "source": [
    "# division of elements\n",
    "a = np.array([1, 2, 3, 4])\n",
    "a / 2\n"
   ]
  },
  {
   "cell_type": "code",
   "execution_count": 53,
   "metadata": {},
   "outputs": [
    {
     "data": {
      "text/plain": [
       "array([-1,  0,  1,  2])"
      ]
     },
     "execution_count": 53,
     "metadata": {},
     "output_type": "execute_result"
    }
   ],
   "source": [
    "# subtraction to elements\n",
    "a = np.array([1, 2, 3, 4])\n",
    "\n",
    "a - 2"
   ]
  },
  {
   "cell_type": "code",
   "execution_count": 54,
   "metadata": {},
   "outputs": [
    {
     "data": {
      "text/plain": [
       "array([3, 5, 7, 9])"
      ]
     },
     "execution_count": 54,
     "metadata": {},
     "output_type": "execute_result"
    }
   ],
   "source": [
    "# additon of two arrays of elements\n",
    "a = np.array([1, 2, 3, 4])\n",
    "b = np.array([2, 3, 4, 5])\n",
    "\n",
    "a + b\n",
    "# loads of maths routines incuding trig, exponentials, hyperbolics etc at link."
   ]
  },
  {
   "cell_type": "code",
   "execution_count": 71,
   "metadata": {},
   "outputs": [
    {
     "name": "stdout",
     "output_type": "stream",
     "text": [
      "10\n",
      "[ 1  3  6 10]\n",
      "24\n",
      "[ 1  2  6 24]\n"
     ]
    }
   ],
   "source": [
    "# summation of array\n",
    "a = np.array([1, 2, 3, 4])\n",
    "cum_sum = np.sum(a)\n",
    "print(cum_sum)\n",
    "\n",
    "# cumsum appends cumaltive total\n",
    "\n",
    "a_cumsum = np.cumsum(a)\n",
    "print(a_cumsum)\n",
    "\n",
    "# total product\n",
    "tot_prod = np.prod(a)\n",
    "print(tot_prod)\n",
    "# cum prod appends product to array\n",
    "\n",
    "cum_prod = np.cumprod(a)\n",
    "print(cum_prod)"
   ]
  },
  {
   "cell_type": "markdown",
   "metadata": {},
   "source": [
    "# maths function https://numpy.org/doc/stable/reference/routines.math.html"
   ]
  },
  {
   "cell_type": "markdown",
   "metadata": {},
   "source": [
    "# maths linear algebra"
   ]
  },
  {
   "cell_type": "code",
   "execution_count": 55,
   "metadata": {},
   "outputs": [
    {
     "data": {
      "text/plain": [
       "array([[6., 6.],\n",
       "       [6., 6.]])"
      ]
     },
     "execution_count": 55,
     "metadata": {},
     "output_type": "execute_result"
    }
   ],
   "source": [
    "# matrix multiplication, produces 2x2 matrix\n",
    "a = np.ones((2, 3))\n",
    "b = np.full((3,2), 2)\n",
    "\n",
    "np.matmul(a,b)"
   ]
  },
  {
   "cell_type": "code",
   "execution_count": 59,
   "metadata": {},
   "outputs": [
    {
     "name": "stdout",
     "output_type": "stream",
     "text": [
      "[[1. 0.]\n",
      " [0. 1.]]\n",
      "1.0\n"
     ]
    }
   ],
   "source": [
    "# find derterminate, make c identity matrix. Then calc determinate which is 1. can be done for any matrix.\n",
    "c = np.identity(2)\n",
    "print(c)\n",
    "determinant = np.linalg.det(c)\n",
    "print(determinant)\n",
    "\n",
    "# loads of vector and matrix functions such as vector product, invert matrix, eigenvalues etc at link below."
   ]
  },
  {
   "cell_type": "markdown",
   "metadata": {},
   "source": [
    "# linalg functions and routines https://www.youtube.com/redirect?event=video_description&redir_token=QUFFLUhqa1FfeEtqMmpzd1lnNVVIbWMxcWM2ZTdVN2xyZ3xBQ3Jtc0trS0FDdUZ3eEVUWDhQWmNNZE9XTWlpUzNfT3lsQXA4blBialdWRExFYU5OWXNGbTVXci1oQmxhVHFVVUJvZGhyaFVuSEVLVHZ2M25fd3ZsSWRBSHp2UG9RenRuSE9QeFFoZmhuaXlHb1Z2OVpEQ19Idw&q=https%3A%2F%2Fdocs.scipy.org%2Fdoc%2Fnumpy%2Freference%2Froutines.linalg.html&v=QUT1VHiLmmI"
   ]
  },
  {
   "cell_type": "markdown",
   "metadata": {},
   "source": [
    "# Stats TBD"
   ]
  },
  {
   "cell_type": "markdown",
   "metadata": {},
   "source": [
    "# Reorg, vstack and hstack."
   ]
  },
  {
   "cell_type": "code",
   "execution_count": 62,
   "metadata": {},
   "outputs": [
    {
     "name": "stdout",
     "output_type": "stream",
     "text": [
      "[[1 2 3]\n",
      " [4 5 6]]\n",
      "[[1 2]\n",
      " [3 4]\n",
      " [5 6]]\n"
     ]
    }
   ],
   "source": [
    "#change shape of multi d array ie from (3, 2) to (2,3)\n",
    "\n",
    "before = np.array([[1, 2, 3], [4, 5, 6]])\n",
    "print(before)\n",
    " # first arg number of rows, second arg number of cols(or elements in a row)\n",
    "after = before.reshape((3, 2))\n",
    "print(after)"
   ]
  },
  {
   "cell_type": "code",
   "execution_count": 73,
   "metadata": {},
   "outputs": [
    {
     "name": "stdout",
     "output_type": "stream",
     "text": [
      "[[ 1  2  3  4  5]\n",
      " [ 6  7  8  9 10]\n",
      " [ 1  2  3  4  5]\n",
      " [ 6  7  8  9 10]]\n"
     ]
    }
   ],
   "source": [
    "# vertical stacking vectors\n",
    "a = np.array([1, 2, 3, 4, 5])\n",
    "b = np.array([6, 7, 8, 9, 10])\n",
    "\n",
    "v_stack = np.vstack([a, b, a, b])\n",
    "print(v_stack)\n"
   ]
  },
  {
   "cell_type": "code",
   "execution_count": 74,
   "metadata": {},
   "outputs": [
    {
     "name": "stdout",
     "output_type": "stream",
     "text": [
      "[[0. 0. 1. 1.]\n",
      " [0. 0. 1. 1.]]\n"
     ]
    }
   ],
   "source": [
    "# horizontal stacking\n",
    "a = np.zeros((2, 2))\n",
    "b =np.ones((2,2))\n",
    "\n",
    "h_stack = np.hstack((a, b))\n",
    "print(h_stack)"
   ]
  },
  {
   "cell_type": "markdown",
   "metadata": {},
   "source": [
    "# data from file  TBD"
   ]
  },
  {
   "cell_type": "markdown",
   "metadata": {},
   "source": [
    "# Advanced indexing and Boolean masking"
   ]
  },
  {
   "cell_type": "code",
   "execution_count": 79,
   "metadata": {},
   "outputs": [
    {
     "data": {
      "text/plain": [
       "array([[ True,  True, False, False],\n",
       "       [ True,  True,  True, False],\n",
       "       [False,  True,  True,  True]])"
      ]
     },
     "execution_count": 79,
     "metadata": {},
     "output_type": "execute_result"
    }
   ],
   "source": [
    "# use an operator to find boolean value in arrar. i.e where value is greater than 20\n",
    "a = np.array([[23, 32, 11, 15], [44, 67, 23, 13,], [9, 56, 34, 22]])\n",
    "\n",
    "a > 20\n"
   ]
  },
  {
   "cell_type": "code",
   "execution_count": 80,
   "metadata": {},
   "outputs": [
    {
     "name": "stdout",
     "output_type": "stream",
     "text": [
      "[23 11 15 23 13  9 22]\n"
     ]
    }
   ],
   "source": [
    "# create a new array based on parameters. this extracts all values within boundary and appends to new array. \n",
    "# ie where element is less than 25.\n",
    "\n",
    "b = a[a < 25]\n",
    "\n",
    "print(b)"
   ]
  },
  {
   "cell_type": "code",
   "execution_count": 81,
   "metadata": {},
   "outputs": [
    {
     "name": "stdout",
     "output_type": "stream",
     "text": [
      "[15 44 13]\n"
     ]
    }
   ],
   "source": [
    "# index an array with a list. extracts indexs and appends to list.\n",
    "a = np.array([23, 32, 11, 15, 44, 67, 23, 13, 9, 56, 34, 22])\n",
    "\n",
    "b = a[[3, 4, 7]]\n",
    "\n",
    "print(b)"
   ]
  },
  {
   "cell_type": "code",
   "execution_count": 88,
   "metadata": {},
   "outputs": [
    {
     "name": "stdout",
     "output_type": "stream",
     "text": [
      "[[23 32 11 15]\n",
      " [44 67 23 13]\n",
      " [ 9 56 34 22]]\n"
     ]
    },
    {
     "data": {
      "text/plain": [
       "array([ True, False,  True, False])"
      ]
     },
     "execution_count": 88,
     "metadata": {},
     "output_type": "execute_result"
    }
   ],
   "source": [
    "# check values in all col using axis ie 0 all values on the axis 0 for col and axis 1 for rows\n",
    "a = np.array([[23, 32, 11, 15], [44, 67, 23, 13,], [9, 56, 34, 22]])\n",
    "print(a)\n",
    "np.any(a < 13, axis=0)"
   ]
  }
 ],
 "metadata": {
  "kernelspec": {
   "display_name": "base",
   "language": "python",
   "name": "python3"
  },
  "language_info": {
   "codemirror_mode": {
    "name": "ipython",
    "version": 3
   },
   "file_extension": ".py",
   "mimetype": "text/x-python",
   "name": "python",
   "nbconvert_exporter": "python",
   "pygments_lexer": "ipython3",
   "version": "3.12.4"
  }
 },
 "nbformat": 4,
 "nbformat_minor": 2
}
