{
 "cells": [
  {
   "cell_type": "code",
   "execution_count": 17,
   "metadata": {},
   "outputs": [],
   "source": [
    "import math\n",
    "from scipy.special import factorial, comb, perm\n",
    "import numpy as np\n",
    "import itertools as it\n",
    "import pprint"
   ]
  },
  {
   "cell_type": "code",
   "execution_count": 12,
   "metadata": {},
   "outputs": [
    {
     "name": "stdout",
     "output_type": "stream",
     "text": [
      "6\n",
      "6.0\n"
     ]
    }
   ],
   "source": [
    "s = {1, 2, 5}\n",
    "\n",
    "S = np.array([1, 2, 5])\n",
    "print(math.factorial(len(S)))\n",
    "print(perm(S.size,3))\n"
   ]
  },
  {
   "cell_type": "code",
   "execution_count": 20,
   "metadata": {},
   "outputs": [
    {
     "name": "stdout",
     "output_type": "stream",
     "text": [
      "[(1, 2, 3), (1, 3, 2), (2, 1, 3), (2, 3, 1), (3, 1, 2), (3, 2, 1)]\n",
      "6\n"
     ]
    }
   ],
   "source": [
    "permest = [1, 2, 3]\n",
    "r = 3\n",
    "\n",
    "outlist = list((it.permutations(permest,r)))\n",
    "pprint.pprint(outlist)\n",
    "perm = len(outlist)\n",
    "print(perm)"
   ]
  },
  {
   "cell_type": "code",
   "execution_count": 22,
   "metadata": {},
   "outputs": [
    {
     "name": "stdout",
     "output_type": "stream",
     "text": [
      "[(1j, nan),\n",
      " (1j, 0),\n",
      " (1j, 3),\n",
      " (nan, 1j),\n",
      " (nan, 0),\n",
      " (nan, 3),\n",
      " (0, 1j),\n",
      " (0, nan),\n",
      " (0, 3),\n",
      " (3, 1j),\n",
      " (3, nan),\n",
      " (3, 0)]\n"
     ]
    }
   ],
   "source": [
    "s = {1j, np.nan, 0, 3 }\n",
    "r = 2\n",
    "\n",
    "permest = [1j, np.nan, 0, 3]\n",
    "outlist = list((it.permutations(permest, r)))\n",
    "pprint.pprint(outlist)\n",
    "perm_num  = len(outlist)\n",
    "\n",
    "print(perm_num)"
   ]
  },
  {
   "cell_type": "code",
   "execution_count": 27,
   "metadata": {},
   "outputs": [
    {
     "name": "stdout",
     "output_type": "stream",
     "text": [
      "10.0\n",
      "20.0\n"
     ]
    }
   ],
   "source": [
    "s = [0, 7, 0, 0, 7, 7]\n",
    "\n",
    "first = math.factorial(5)/(math.factorial(2)*math.factorial(3))\n",
    "print(first)\n",
    "second = math.factorial(5)/(math.factorial(2)*math.factorial(3))\n",
    "perm = first + second \n",
    "print(perm)"
   ]
  },
  {
   "cell_type": "code",
   "execution_count": 37,
   "metadata": {},
   "outputs": [
    {
     "name": "stdout",
     "output_type": "stream",
     "text": [
      "630.0\n"
     ]
    }
   ],
   "source": [
    "combs = math.comb(6,2)\n",
    "\n",
    "s = [15, 24, math.inf, math.comb(6,2), factorial(4), 2, math.inf]\n",
    "first = factorial(6)/ (factorial(2) * factorial(2) * factorial(1))\n",
    "first *= 3\n",
    "second = factorial(6)/(factorial(2)*factorial(2)*factorial(2))\n",
    "\n",
    "perms = first + second\n",
    "print(perms)"
   ]
  }
 ],
 "metadata": {
  "kernelspec": {
   "display_name": "base",
   "language": "python",
   "name": "python3"
  },
  "language_info": {
   "codemirror_mode": {
    "name": "ipython",
    "version": 3
   },
   "file_extension": ".py",
   "mimetype": "text/x-python",
   "name": "python",
   "nbconvert_exporter": "python",
   "pygments_lexer": "ipython3",
   "version": "3.12.4"
  }
 },
 "nbformat": 4,
 "nbformat_minor": 2
}
