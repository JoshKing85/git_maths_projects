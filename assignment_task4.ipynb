{
 "cells": [
  {
   "cell_type": "code",
   "execution_count": 3,
   "metadata": {},
   "outputs": [],
   "source": [
    "import sympy as sp\n",
    "import matplotlib as mpl\n",
    "import matplotlib.pyplot as plt\n",
    "import numpy as np"
   ]
  },
  {
   "cell_type": "markdown",
   "metadata": {},
   "source": [
    "**Initialise implicit equation** $$ {y^2} \\cdot  {(x-3)^2} = {x^3} - a \\cdot x \\cdot (2 \\cdot x - a) $$"
   ]
  },
  {
   "cell_type": "code",
   "execution_count": 4,
   "metadata": {},
   "outputs": [
    {
     "name": "stdout",
     "output_type": "stream",
     "text": [
      " 2        2    3                  \n",
      "y ⋅(x - 3)  = x  - 13⋅x⋅(2⋅x - 13)\n"
     ]
    }
   ],
   "source": [
    "'''\n",
    "First initialise two variables that contain both sides of equation, left hand side (lhs) and right hand side (rhs).\n",
    "Then initialise variable eq, using sympy eq() function to form an implicit equation.\n",
    "We will then output eq to show that it is in implicit form.\n",
    "\n",
    "'''\n",
    "a = 13  #We are group number 13 and a is equal to group number.\n",
    "x, y = sp.symbols('x y')\n",
    "\n",
    "lhs = sp.Pow(y, 2)*sp.Pow((x-3), 2)\n",
    "rhs = sp.Pow(x, 3) - a*x*(2*x - a)\n",
    "\n",
    "eq = sp.Eq(lhs, rhs)\n",
    "\n",
    "sp.pprint(eq)"
   ]
  },
  {
   "cell_type": "markdown",
   "metadata": {},
   "source": [
    "**Transform to explicit** $$ y =  \\pm \\sqrt{\\frac{{x^3} - a \\cdot x \\cdot (2 \\cdot x - a)}{{(x-3)^2}}} $$"
   ]
  },
  {
   "cell_type": "code",
   "execution_count": 5,
   "metadata": {},
   "outputs": [
    {
     "name": "stdout",
     "output_type": "stream",
     "text": [
      "                ______________________\n",
      "   ____        ╱  3                   \n",
      "  ╱  2        ╱  x  - 13⋅x⋅(2⋅x - 13) \n",
      "╲╱  y   =    ╱   ──────────────────── \n",
      "            ╱                 2       \n",
      "          ╲╱           (x - 3)        \n"
     ]
    }
   ],
   "source": [
    "'''\n",
    "Since the initial equation is implicit we cannot define the domain, we need to manipulate the equation into an explicit form.\n",
    "We'll perform simultaneous operations on both variables lhs and rhs, then initialize eq with sympy Eq() function in its explicit form.\n",
    "\n",
    "'''\n",
    "# Divide through by (x-3)*2.\n",
    "lhs = (lhs/sp.Pow((x-3), 2))\n",
    "rhs = (rhs/sp.Pow((x-3), 2))\n",
    " \n",
    " # Take the square root of both.\n",
    "lhs = sp.sqrt(lhs)\n",
    "rhs = sp.sqrt(rhs)\n",
    "\n",
    "eq = sp.Eq(lhs, rhs)\n",
    "\n",
    "\n",
    "\n",
    "#Output eq to show equation in implicit form.\n",
    "sp.pprint(eq)"
   ]
  },
  {
   "cell_type": "markdown",
   "metadata": {},
   "source": [
    "**Expression to find domain**    $$ \\pm \\sqrt{\\frac{{x^3} - 13 \\cdot x \\cdot(2 \\cdot x - 13) }{{(x -3)^2}}}  $$"
   ]
  },
  {
   "cell_type": "code",
   "execution_count": 6,
   "metadata": {},
   "outputs": [
    {
     "name": "stdout",
     "output_type": "stream",
     "text": [
      "[0, 13]\n"
     ]
    }
   ],
   "source": [
    "'''\n",
    "We can now use rhs expression to find the domain of f(x).\n",
    "Since any expression under a square root must be > 0 for all real numbers.\n",
    "We can equate the expression under the square root to 0 and by doing this find its roots.\n",
    "As a fraction with denominator 0 is undefined, therefore there is a vertical asymptote at x = 3. This means while x can approach 0 it can never be 0, and as x approaches 0, y value tends to positive infinity.\n",
    "\n",
    "'''\n",
    "\n",
    "# Expression under square root.\n",
    "rhs = sp.Pow(rhs, 2)\n",
    "\n",
    "# Equate to 0 and solve. Output the roots of the expression.\n",
    "roots = sp.solve(rhs, x)\n",
    "print(roots)\n"
   ]
  },
  {
   "cell_type": "markdown",
   "metadata": {},
   "source": [
    "**Domain of the f(x) and graph of f(x)**"
   ]
  },
  {
   "cell_type": "code",
   "execution_count": 7,
   "metadata": {},
   "outputs": [
    {
     "name": "stderr",
     "output_type": "stream",
     "text": [
      "C:\\Users\\joshk\\AppData\\Local\\Temp\\ipykernel_10292\\2690910342.py:15: RuntimeWarning: invalid value encountered in sqrt\n",
      "  y = np.sqrt((x**3 - 13*x*(2*x - 13))/(x - 3)**2)\n"
     ]
    },
    {
     "data": {
      "image/png": "[encoded data removed]",
      "text/plain": [
       "<Figure size 640x480 with 1 Axes>"
      ]
     },
     "metadata": {},
     "output_type": "display_data"
    }
   ],
   "source": [
    "'''\n",
    "The roots are x = 0, 13, there is an asymptote at 3.\n",
    "\n",
    "The domain = [0, 3)U(3, 13]U[13, infinity)\n",
    "\n",
    "We can see this behaviour graphically.\n",
    "We should see a positive graph with two distinct roots that touch at the origin and x = 13, with a veritcal asymptote at x = 3.\n",
    "\n",
    "'''\n",
    "\n",
    "\n",
    "mpl.rcParams['font.size']=12\n",
    "\n",
    "x = np.linspace(-10, 20, 1000)\n",
    "y = np.sqrt((x**3 - 13*x*(2*x - 13))/(x - 3)**2)\n",
    "\n",
    "\n",
    "plt.grid()\n",
    "plt.xlim(-1, 20)\n",
    "plt.ylim(0, 20)\n",
    "plt.xlabel('x')\n",
    "plt.ylabel('y ', rotation= 0)\n",
    "plt.axhline(c='black', linewidth= 1.1)\n",
    "plt.axvline(c= 'black', linewidth= 1.1)\n",
    "plt.plot(x, y, 'r--')\n",
    "plt.xticks(np.arange(-1, 21, 2))\n",
    "plt.show()\n"
   ]
  },
  {
   "cell_type": "code",
   "execution_count": null,
   "metadata": {},
   "outputs": [],
   "source": [
    "'''\n",
    "\n",
    "\n",
    "\n",
    "'''"
   ]
  }
 ],
 "metadata": {
  "kernelspec": {
   "display_name": "base",
   "language": "python",
   "name": "python3"
  },
  "language_info": {
   "codemirror_mode": {
    "name": "ipython",
    "version": 3
   },
   "file_extension": ".py",
   "mimetype": "text/x-python",
   "name": "python",
   "nbconvert_exporter": "python",
   "pygments_lexer": "ipython3",
   "version": "3.12.4"
  }
 },
 "nbformat": 4,
 "nbformat_minor": 2
}
