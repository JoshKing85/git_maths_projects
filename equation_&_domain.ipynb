{
 "cells": [
  {
   "cell_type": "code",
   "execution_count": 2,
   "metadata": {},
   "outputs": [],
   "source": [
    "import sympy as sp\n",
    "import numpy as np\n"
   ]
  },
  {
   "cell_type": "markdown",
   "metadata": {},
   "source": [
    "$$0 = -1 + x \\cdot y^2$$\n",
    "\n"
   ]
  },
  {
   "cell_type": "code",
   "execution_count": 18,
   "metadata": {},
   "outputs": [
    {
     "data": {
      "text/plain": [
       "[-sqrt(1/x), sqrt(1/x)]"
      ]
     },
     "execution_count": 18,
     "metadata": {},
     "output_type": "execute_result"
    }
   ],
   "source": [
    "x, y = sp.symbols('x y')\n",
    "\n",
    "equation = -1 + x*y**2\n",
    "sp.solve(equation, y)"
   ]
  },
  {
   "cell_type": "code",
   "execution_count": 23,
   "metadata": {},
   "outputs": [
    {
     "name": "stdout",
     "output_type": "stream",
     "text": [
      "[3.16227766 2.23606798 1.82574186 1.58113883 1.41421356 1.29099445\n",
      " 1.19522861 1.11803399 1.05409255 1.         0.95346259 0.91287093\n",
      " 0.87705802 0.84515425 0.81649658 0.79056942 0.76696499 0.74535599\n",
      " 0.72547625]\n"
     ]
    }
   ],
   "source": [
    "def func1(x):\n",
    "    \n",
    "    return 1/np.sqrt(x)\n",
    "\n",
    "np.vectorize(func1)\n",
    "\n",
    "x = np.arange(0.1, 2, 0.1)\n",
    "y = func1(x)\n",
    "print(y)\n"
   ]
  }
 ],
 "metadata": {
  "kernelspec": {
   "display_name": "base",
   "language": "python",
   "name": "python3"
  },
  "language_info": {
   "codemirror_mode": {
    "name": "ipython",
    "version": 3
   },
   "file_extension": ".py",
   "mimetype": "text/x-python",
   "name": "python",
   "nbconvert_exporter": "python",
   "pygments_lexer": "ipython3",
   "version": "3.12.4"
  }
 },
 "nbformat": 4,
 "nbformat_minor": 2
}
